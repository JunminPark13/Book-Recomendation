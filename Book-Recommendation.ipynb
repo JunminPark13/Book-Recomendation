{
 "cells": [
  {
   "cell_type": "code",
   "execution_count": 1,
   "metadata": {
    "scrolled": true
   },
   "outputs": [
    {
     "data": {
      "text/html": [
       "<div>\n",
       "<style scoped>\n",
       "    .dataframe tbody tr th:only-of-type {\n",
       "        vertical-align: middle;\n",
       "    }\n",
       "\n",
       "    .dataframe tbody tr th {\n",
       "        vertical-align: top;\n",
       "    }\n",
       "\n",
       "    .dataframe thead th {\n",
       "        text-align: right;\n",
       "    }\n",
       "</style>\n",
       "<table border=\"1\" class=\"dataframe\">\n",
       "  <thead>\n",
       "    <tr style=\"text-align: right;\">\n",
       "      <th></th>\n",
       "      <th>Name</th>\n",
       "      <th>Story</th>\n",
       "      <th>NounAdj</th>\n",
       "    </tr>\n",
       "  </thead>\n",
       "  <tbody>\n",
       "    <tr>\n",
       "      <td>0</td>\n",
       "      <td>외눈박이 물고기의 사랑</td>\n",
       "      <td>\\n\\r\\n시인이자 명상가, 번역가로 활동중인 류시화의 두번째 시집. 일상 언어들을...</td>\n",
       "      <td>시인 이자 명상 번역가 활동 류시화 두번째 시집 일상 언어 사용 세계 빚 그 시 마...</td>\n",
       "    </tr>\n",
       "    <tr>\n",
       "      <td>1</td>\n",
       "      <td>지금 알고 있는 걸 그때도 알았더라면</td>\n",
       "      <td>\\n\\r\\n20여 년간 명상과 인간의식 진화에 대한 번역서를 소개하면서 시를 써온 ...</td>\n",
       "      <td>여 년 명상 인간 의식 진화 대한 번역 를 소개 온 류시화 사랑 잠언 시집 삶 대한...</td>\n",
       "    </tr>\n",
       "    <tr>\n",
       "      <td>2</td>\n",
       "      <td>연인</td>\n",
       "      <td>\\n\\r\\n우리들 가슴 어딘가에 감추어져 있는 진정한 사랑의 풍경소리를 찾아가는 푸...</td>\n",
       "      <td>우리 가슴 어딘가 사랑 풍경 소리 푸른 툭눈 이야기 운주사 풍경 삶 현재 사랑 못 ...</td>\n",
       "    </tr>\n",
       "    <tr>\n",
       "      <td>3</td>\n",
       "      <td>연인</td>\n",
       "      <td>\\n\\r\\n우리들 가슴 어딘가에 감추어져 있는 진정한 사랑의 풍경소리를 찾아가는 푸...</td>\n",
       "      <td>우리 가슴 어딘가 사랑 풍경 소리 푸른 툭눈 이야기 운주사 풍경 삶 현재 사랑 못 ...</td>\n",
       "    </tr>\n",
       "    <tr>\n",
       "      <td>4</td>\n",
       "      <td>섬진강 이야기1</td>\n",
       "      <td>\\n\\r\\n남도 5백 리 길 세 개의 도와 열두 개의 군을 거쳐 지나가며 사람들의 ...</td>\n",
       "      <td>남도 백 리 길 세 개 도 개 군 사람 삶 강 우리 뇌리 가장 강 기억 섬진강 사계...</td>\n",
       "    </tr>\n",
       "  </tbody>\n",
       "</table>\n",
       "</div>"
      ],
      "text/plain": [
       "                   Name                                              Story  \\\n",
       "0          외눈박이 물고기의 사랑  \\n\\r\\n시인이자 명상가, 번역가로 활동중인 류시화의 두번째 시집. 일상 언어들을...   \n",
       "1  지금 알고 있는 걸 그때도 알았더라면  \\n\\r\\n20여 년간 명상과 인간의식 진화에 대한 번역서를 소개하면서 시를 써온 ...   \n",
       "2                    연인  \\n\\r\\n우리들 가슴 어딘가에 감추어져 있는 진정한 사랑의 풍경소리를 찾아가는 푸...   \n",
       "3                    연인  \\n\\r\\n우리들 가슴 어딘가에 감추어져 있는 진정한 사랑의 풍경소리를 찾아가는 푸...   \n",
       "4              섬진강 이야기1  \\n\\r\\n남도 5백 리 길 세 개의 도와 열두 개의 군을 거쳐 지나가며 사람들의 ...   \n",
       "\n",
       "                                             NounAdj  \n",
       "0  시인 이자 명상 번역가 활동 류시화 두번째 시집 일상 언어 사용 세계 빚 그 시 마...  \n",
       "1  여 년 명상 인간 의식 진화 대한 번역 를 소개 온 류시화 사랑 잠언 시집 삶 대한...  \n",
       "2  우리 가슴 어딘가 사랑 풍경 소리 푸른 툭눈 이야기 운주사 풍경 삶 현재 사랑 못 ...  \n",
       "3  우리 가슴 어딘가 사랑 풍경 소리 푸른 툭눈 이야기 운주사 풍경 삶 현재 사랑 못 ...  \n",
       "4  남도 백 리 길 세 개 도 개 군 사람 삶 강 우리 뇌리 가장 강 기억 섬진강 사계...  "
      ]
     },
     "execution_count": 1,
     "metadata": {},
     "output_type": "execute_result"
    }
   ],
   "source": [
    "from rake_nltk import Rake\n",
    "import pandas as pd\n",
    "import numpy as np\n",
    "from sklearn.metrics.pairwise import cosine_similarity\n",
    "from sklearn.feature_extraction.text import CountVectorizer \n",
    "token = pd.read_csv('tokenized.csv',usecols=['Name','Story','NounAdj'])\n",
    "\n",
    "token.head()"
   ]
  },
  {
   "cell_type": "code",
   "execution_count": 2,
   "metadata": {},
   "outputs": [],
   "source": [
    "token = token.dropna(axis=0)"
   ]
  },
  {
   "cell_type": "code",
   "execution_count": 4,
   "metadata": {
    "scrolled": true
   },
   "outputs": [],
   "source": [
    "import operator\n",
    "\n",
    "token['Key_words'] = ''\n",
    "r = Rake()\n",
    "for index, row in token.iterrows():\n",
    "    r.extract_keywords_from_text(row['NounAdj'])\n",
    "    key_words_dict_scores = r.get_word_degrees()\n",
    "    key_words_dict_scores = sorted(key_words_dict_scores.items(), key=operator.itemgetter(1))\n",
    "    temp = []\n",
    "    for i in key_words_dict_scores[-5:]:\n",
    "        temp.append(i[0])\n",
    "    row['Key_words'] = temp"
   ]
  },
  {
   "cell_type": "code",
   "execution_count": 5,
   "metadata": {
    "scrolled": false
   },
   "outputs": [
    {
     "data": {
      "text/html": [
       "<div>\n",
       "<style scoped>\n",
       "    .dataframe tbody tr th:only-of-type {\n",
       "        vertical-align: middle;\n",
       "    }\n",
       "\n",
       "    .dataframe tbody tr th {\n",
       "        vertical-align: top;\n",
       "    }\n",
       "\n",
       "    .dataframe thead th {\n",
       "        text-align: right;\n",
       "    }\n",
       "</style>\n",
       "<table border=\"1\" class=\"dataframe\">\n",
       "  <thead>\n",
       "    <tr style=\"text-align: right;\">\n",
       "      <th></th>\n",
       "      <th>Name</th>\n",
       "      <th>Story</th>\n",
       "      <th>NounAdj</th>\n",
       "      <th>Key_words</th>\n",
       "    </tr>\n",
       "  </thead>\n",
       "  <tbody>\n",
       "    <tr>\n",
       "      <td>0</td>\n",
       "      <td>외눈박이 물고기의 사랑</td>\n",
       "      <td>\\n\\r\\n시인이자 명상가, 번역가로 활동중인 류시화의 두번째 시집. 일상 언어들을...</td>\n",
       "      <td>시인 이자 명상 번역가 활동 류시화 두번째 시집 일상 언어 사용 세계 빚 그 시 마...</td>\n",
       "      <td>[가볍게, 없는, 깊어진, 시집, 세계]</td>\n",
       "    </tr>\n",
       "    <tr>\n",
       "      <td>1</td>\n",
       "      <td>지금 알고 있는 걸 그때도 알았더라면</td>\n",
       "      <td>\\n\\r\\n20여 년간 명상과 인간의식 진화에 대한 번역서를 소개하면서 시를 써온 ...</td>\n",
       "      <td>여 년 명상 인간 의식 진화 대한 번역 를 소개 온 류시화 사랑 잠언 시집 삶 대한...</td>\n",
       "      <td>[시집, 사람, 새로운, 대한, 삶]</td>\n",
       "    </tr>\n",
       "    <tr>\n",
       "      <td>2</td>\n",
       "      <td>연인</td>\n",
       "      <td>\\n\\r\\n우리들 가슴 어딘가에 감추어져 있는 진정한 사랑의 풍경소리를 찾아가는 푸...</td>\n",
       "      <td>우리 가슴 어딘가 사랑 풍경 소리 푸른 툭눈 이야기 운주사 풍경 삶 현재 사랑 못 ...</td>\n",
       "      <td>[풍경, 푸른, 툭눈, 사랑, 삶]</td>\n",
       "    </tr>\n",
       "    <tr>\n",
       "      <td>3</td>\n",
       "      <td>연인</td>\n",
       "      <td>\\n\\r\\n우리들 가슴 어딘가에 감추어져 있는 진정한 사랑의 풍경소리를 찾아가는 푸...</td>\n",
       "      <td>우리 가슴 어딘가 사랑 풍경 소리 푸른 툭눈 이야기 운주사 풍경 삶 현재 사랑 못 ...</td>\n",
       "      <td>[풍경, 푸른, 툭눈, 사랑, 삶]</td>\n",
       "    </tr>\n",
       "    <tr>\n",
       "      <td>4</td>\n",
       "      <td>섬진강 이야기1</td>\n",
       "      <td>\\n\\r\\n남도 5백 리 길 세 개의 도와 열두 개의 군을 거쳐 지나가며 사람들의 ...</td>\n",
       "      <td>남도 백 리 길 세 개 도 개 군 사람 삶 강 우리 뇌리 가장 강 기억 섬진강 사계...</td>\n",
       "      <td>[것, 책아름다운, 있다, 개, 강]</td>\n",
       "    </tr>\n",
       "  </tbody>\n",
       "</table>\n",
       "</div>"
      ],
      "text/plain": [
       "                   Name                                              Story  \\\n",
       "0          외눈박이 물고기의 사랑  \\n\\r\\n시인이자 명상가, 번역가로 활동중인 류시화의 두번째 시집. 일상 언어들을...   \n",
       "1  지금 알고 있는 걸 그때도 알았더라면  \\n\\r\\n20여 년간 명상과 인간의식 진화에 대한 번역서를 소개하면서 시를 써온 ...   \n",
       "2                    연인  \\n\\r\\n우리들 가슴 어딘가에 감추어져 있는 진정한 사랑의 풍경소리를 찾아가는 푸...   \n",
       "3                    연인  \\n\\r\\n우리들 가슴 어딘가에 감추어져 있는 진정한 사랑의 풍경소리를 찾아가는 푸...   \n",
       "4              섬진강 이야기1  \\n\\r\\n남도 5백 리 길 세 개의 도와 열두 개의 군을 거쳐 지나가며 사람들의 ...   \n",
       "\n",
       "                                             NounAdj               Key_words  \n",
       "0  시인 이자 명상 번역가 활동 류시화 두번째 시집 일상 언어 사용 세계 빚 그 시 마...  [가볍게, 없는, 깊어진, 시집, 세계]  \n",
       "1  여 년 명상 인간 의식 진화 대한 번역 를 소개 온 류시화 사랑 잠언 시집 삶 대한...    [시집, 사람, 새로운, 대한, 삶]  \n",
       "2  우리 가슴 어딘가 사랑 풍경 소리 푸른 툭눈 이야기 운주사 풍경 삶 현재 사랑 못 ...     [풍경, 푸른, 툭눈, 사랑, 삶]  \n",
       "3  우리 가슴 어딘가 사랑 풍경 소리 푸른 툭눈 이야기 운주사 풍경 삶 현재 사랑 못 ...     [풍경, 푸른, 툭눈, 사랑, 삶]  \n",
       "4  남도 백 리 길 세 개 도 개 군 사람 삶 강 우리 뇌리 가장 강 기억 섬진강 사계...    [것, 책아름다운, 있다, 개, 강]  "
      ]
     },
     "execution_count": 5,
     "metadata": {},
     "output_type": "execute_result"
    }
   ],
   "source": [
    "token.head()"
   ]
  },
  {
   "cell_type": "code",
   "execution_count": 7,
   "metadata": {},
   "outputs": [],
   "source": [
    "token['Bag_of_words'] = ''\n",
    "columns = ['Key_words']\n",
    "for index, row in token.iterrows():\n",
    "    words = ''\n",
    "    for col in columns:\n",
    "        words += ' '.join(row[col]) + ' '\n",
    "    row['Bag_of_words'] = words"
   ]
  },
  {
   "cell_type": "code",
   "execution_count": 9,
   "metadata": {},
   "outputs": [],
   "source": [
    "token = token[['Name','Key_words','Bag_of_words']]"
   ]
  },
  {
   "cell_type": "markdown",
   "metadata": {},
   "source": [
    "================== 키워드 3개 가져오기 ====================="
   ]
  },
  {
   "cell_type": "code",
   "execution_count": 22,
   "metadata": {},
   "outputs": [
    {
     "name": "stdout",
     "output_type": "stream",
     "text": [
      "[[1.         0.26099663 0.         ... 0.         0.         0.        ]\n",
      " [0.26099663 1.         0.         ... 0.         0.         0.        ]\n",
      " [0.         0.         1.         ... 0.         0.         0.        ]\n",
      " ...\n",
      " [0.         0.         0.         ... 1.         0.         0.        ]\n",
      " [0.         0.         0.         ... 0.         1.         0.        ]\n",
      " [0.         0.         0.         ... 0.         0.         1.        ]]\n"
     ]
    }
   ],
   "source": [
    "from sklearn.feature_extraction.text import TfidfVectorizer\n",
    "\n",
    "tfidf = TfidfVectorizer()\n",
    "tfidf_matrix = tfidf.fit_transform(token_user['Bag_of_words'])"
   ]
  },
  {
   "cell_type": "code",
   "execution_count": 123,
   "metadata": {},
   "outputs": [],
   "source": [
    "# user가 책 '곽재구의 포구기행' \n",
    "# 키워드 [여행, 것, 시인, 당신, 포구] 중 [여행, 시인, 포구] 선택\n",
    "\n",
    "a = '여행'\n",
    "b = '시인'\n",
    "c = '포구'\n",
    "\n",
    "user_matrix = np.zeros((tfidf_matrix.shape[1],))\n",
    "\n",
    "a_index = tfidf_dict.index(a)\n",
    "b_index = tfidf_dict.index(b)\n",
    "c_index = tfidf_dict.index(c)\n",
    "# print(a_index, b_index, c_index)\n",
    "indices = pd.Series(token_user['Name'])\n",
    "idx = indices[indices == '곽재구의 포구기행'].index[0]\n",
    "# print(idx)\n",
    "\n",
    "user_matrix[a_index] = tfidf_matrix[idx, a_index]\n",
    "user_matrix[b_index] = tfidf_matrix[idx, b_index]\n",
    "user_matrix[c_index] = tfidf_matrix[idx, c_index]\n",
    "\n",
    "user_matrix = user_matrix.reshape(1,-1)\n",
    "# print(user_matrix)"
   ]
  },
  {
   "cell_type": "code",
   "execution_count": 127,
   "metadata": {},
   "outputs": [],
   "source": [
    "def recommend(title, cosine_sim = cosine_sim):\n",
    "    recommended_books = []\n",
    "    idx = indices[indices == title].index[0]\n",
    "    score_series = pd.Series(cosine_sim[0]).sort_values(ascending = False)\n",
    "    top_10_indices = list(score_series.iloc[1:12].index)\n",
    "    \n",
    "    for i in top_10_indices:\n",
    "        recommended_books.append(list(token_user['Name'])[i])\n",
    "        \n",
    "    return recommended_books"
   ]
  },
  {
   "cell_type": "code",
   "execution_count": 128,
   "metadata": {
    "scrolled": true
   },
   "outputs": [
    {
     "data": {
      "text/plain": [
       "['곽재구의 포구기행',\n",
       " '곽재구의 포구기행',\n",
       " '곽재구의 포구기행',\n",
       " '곽재구의 포구기행',\n",
       " '따뜻한 종이컵',\n",
       " '딛고선 땅',\n",
       " '삶이 자꾸 아프다고 말할 때',\n",
       " '삶이 자꾸 아프다고 말할 때',\n",
       " '따뜻한 종이컵',\n",
       " '한시의 성좌']"
      ]
     },
     "execution_count": 128,
     "metadata": {},
     "output_type": "execute_result"
    }
   ],
   "source": [
    "recommend('곽재구의 포구기행')"
   ]
  },
  {
   "cell_type": "code",
   "execution_count": null,
   "metadata": {},
   "outputs": [],
   "source": []
  }
 ],
 "metadata": {
  "kernelspec": {
   "display_name": "Python 3",
   "language": "python",
   "name": "python3"
  },
  "language_info": {
   "codemirror_mode": {
    "name": "ipython",
    "version": 3
   },
   "file_extension": ".py",
   "mimetype": "text/x-python",
   "name": "python",
   "nbconvert_exporter": "python",
   "pygments_lexer": "ipython3",
   "version": "3.7.4"
  }
 },
 "nbformat": 4,
 "nbformat_minor": 2
}
